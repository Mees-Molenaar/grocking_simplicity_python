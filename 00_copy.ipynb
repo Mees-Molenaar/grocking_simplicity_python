{
 "cells": [
  {
   "cell_type": "markdown",
   "metadata": {},
   "source": [
    "# copyOnWrite\n",
    "\n",
    "> Implementing copy on write for all Python types"
   ]
  },
  {
   "cell_type": "code",
   "execution_count": null,
   "metadata": {},
   "outputs": [],
   "source": [
    "#| default_exp fcopy"
   ]
  },
  {
   "cell_type": "code",
   "execution_count": null,
   "metadata": {},
   "outputs": [],
   "source": [
    "#| export\n",
    "from typing import TypeVar, Callable\n",
    "import copy"
   ]
  },
  {
   "cell_type": "code",
   "execution_count": null,
   "metadata": {},
   "outputs": [],
   "source": [
    "#| hide\n",
    "from nbdev.showdoc import *\n",
    "from fastcore.test import *"
   ]
  },
  {
   "cell_type": "markdown",
   "metadata": {},
   "source": [
    "## Immutability\n",
    "\n",
    "In functional programming a large focus point is immutability. This is especially important in multi-threaded programs since we are gauranteed that variables in one thread are not corrupted by another thread. We never have to worry about another part of our program to interfere with our variables. \n",
    "\n",
    "We implement immutability by using the copy-on-write principle. In this manner, we can easily create our own function/setter implementations with a copy-on-write principle."
   ]
  },
  {
   "cell_type": "code",
   "execution_count": null,
   "metadata": {},
   "outputs": [],
   "source": [
    "#| export\n",
    "T = TypeVar('T')"
   ]
  },
  {
   "cell_type": "code",
   "execution_count": null,
   "metadata": {},
   "outputs": [],
   "source": [
    "#| export\n",
    "def withCopy(_toCopy: T, modify: Callable) -> T:\n",
    "    _copy = copy.copy(_toCopy)\n",
    "    _copy = modify(_copy)\n",
    "    return _copy"
   ]
  },
  {
   "cell_type": "code",
   "execution_count": null,
   "metadata": {},
   "outputs": [],
   "source": [
    "expected = \"BERT\"\n",
    "\n",
    "def upper(_copy: str) -> str:\n",
    "    return _copy.upper()\n",
    "\n",
    "def toUpper(_string):\n",
    "    return withCopy(_string, upper)"
   ]
  },
  {
   "cell_type": "code",
   "execution_count": null,
   "metadata": {},
   "outputs": [],
   "source": [
    "test_eq(toUpper('bert'), expected)"
   ]
  },
  {
   "cell_type": "code",
   "execution_count": null,
   "metadata": {},
   "outputs": [],
   "source": [
    "#| hide\n",
    "import nbdev; nbdev.nbdev_export()"
   ]
  }
 ],
 "metadata": {
  "kernelspec": {
   "display_name": "Python 3.9.13 ('venv': venv)",
   "language": "python",
   "name": "python3"
  }
 },
 "nbformat": 4,
 "nbformat_minor": 2
}
