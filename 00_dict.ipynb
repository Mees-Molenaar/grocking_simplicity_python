{
 "cells": [
  {
   "cell_type": "markdown",
   "metadata": {},
   "source": [
    "# fdict\n",
    "\n",
    "> Making dictionaries function by implementing immutability"
   ]
  },
  {
   "cell_type": "code",
   "execution_count": null,
   "metadata": {},
   "outputs": [],
   "source": [
    "#| default_exp fdict"
   ]
  },
  {
   "cell_type": "code",
   "execution_count": null,
   "metadata": {},
   "outputs": [],
   "source": [
    "#| export \n",
    "\n",
    "from typing import Dict, Any\n",
    "import copy"
   ]
  },
  {
   "cell_type": "code",
   "execution_count": null,
   "metadata": {},
   "outputs": [],
   "source": [
    "#| hide\n",
    "from nbdev.showdoc import *\n",
    "from fastcore.test import *"
   ]
  },
  {
   "cell_type": "markdown",
   "metadata": {},
   "source": [
    "## Immutability\n",
    "\n",
    "In functional programming a large focus point is immutability. This is especially important in multi-threaded programs since we are gauranteed that variables in one thread are not corrupted by another thread. We never have to worry about another part of our program to interfere with our variables. \n",
    "\n",
    "We implement immutability by using the copy-on-write principle."
   ]
  },
  {
   "cell_type": "markdown",
   "metadata": {},
   "source": [
    "We start by creating a function which implements a copy-on-write principle to set key, value pairs in a dictionary."
   ]
  },
  {
   "cell_type": "code",
   "execution_count": null,
   "metadata": {},
   "outputs": [],
   "source": [
    "#| export\n",
    "def dictSet(\n",
    "    _dict: Dict,\n",
    "    key: Any,\n",
    "    value: Any\n",
    ") -> Dict:\n",
    "    new_dict = copy.copy(_dict)  \n",
    "    new_dict[key] = value\n",
    "    return new_dict"
   ]
  },
  {
   "cell_type": "markdown",
   "metadata": {},
   "source": [
    "It should set a new key, value pair when the key does not exist."
   ]
  },
  {
   "cell_type": "code",
   "execution_count": null,
   "metadata": {},
   "outputs": [],
   "source": [
    "expected_dict = {\n",
    "    'foo': 'bar'\n",
    "}\n",
    "\n",
    "test_eq(\n",
    "    dictSet({}, 'foo', 'bar'),\n",
    "    expected_dict,\n",
    ")"
   ]
  },
  {
   "cell_type": "markdown",
   "metadata": {},
   "source": [
    "It should update the key, value pair when the key does exist. Take into account that the dictionary is still immutable since it makes a copy!!"
   ]
  },
  {
   "cell_type": "code",
   "execution_count": null,
   "metadata": {},
   "outputs": [],
   "source": [
    "expected_dict = {\n",
    "    'foo': 'baz'\n",
    "}\n",
    "\n",
    "test_eq(\n",
    "    dictSet({'foo': 'bar'}, 'foo', 'baz'),\n",
    "    expected_dict\n",
    ")"
   ]
  },
  {
   "cell_type": "markdown",
   "metadata": {},
   "source": [
    "Then it will also be great to remove a key from the dictionary"
   ]
  },
  {
   "cell_type": "code",
   "execution_count": null,
   "metadata": {},
   "outputs": [],
   "source": [
    "#| export\n",
    "def dictRemove(_dict: Dict,\n",
    "key: Any) -> Dict:\n",
    "    copy_dict = copy.copy(_dict)\n",
    "    del copy_dict[key]\n",
    "    return copy_dict"
   ]
  },
  {
   "cell_type": "markdown",
   "metadata": {},
   "source": [
    "It should delete the key, value pair with the given key from the dictionary."
   ]
  },
  {
   "cell_type": "code",
   "execution_count": null,
   "metadata": {},
   "outputs": [],
   "source": [
    "expected_dict = {}\n",
    "\n",
    "test_eq(\n",
    "    dictRemove({'foo': 'bar'}, 'foo'),\n",
    "    expected_dict\n",
    ")"
   ]
  },
  {
   "cell_type": "code",
   "execution_count": null,
   "metadata": {},
   "outputs": [],
   "source": [
    "expected_dict = {'ham': 'spam'}\n",
    "\n",
    "test_eq(\n",
    "    dictRemove({'foo': 'bar', 'ham': 'spam'}, 'foo'),\n",
    "    expected_dict\n",
    ")"
   ]
  },
  {
   "cell_type": "code",
   "execution_count": null,
   "metadata": {},
   "outputs": [],
   "source": [
    "#| hide\n",
    "import nbdev; nbdev.nbdev_export()"
   ]
  }
 ],
 "metadata": {
  "kernelspec": {
   "display_name": "Python 3.9.13 ('venv': venv)",
   "language": "python",
   "name": "python3"
  }
 },
 "nbformat": 4,
 "nbformat_minor": 4
}
