{
 "cells": [
  {
   "cell_type": "markdown",
   "metadata": {},
   "source": [
    "# fdict\n",
    "\n",
    "> Making dictionaries function by implementing immutability"
   ]
  },
  {
   "cell_type": "code",
   "execution_count": null,
   "metadata": {},
   "outputs": [],
   "source": [
    "#| default_exp fdict"
   ]
  },
  {
   "cell_type": "code",
   "execution_count": 7,
   "metadata": {},
   "outputs": [],
   "source": [
    "#| export \n",
    "from typing import Dict, Any, Callable\n",
    "import copy"
   ]
  },
  {
   "cell_type": "code",
   "execution_count": 35,
   "metadata": {},
   "outputs": [],
   "source": [
    "#| hide\n",
    "from nbdev.showdoc import *\n",
    "from fastcore.test import *"
   ]
  },
  {
   "cell_type": "code",
   "execution_count": 32,
   "metadata": {},
   "outputs": [],
   "source": [
    "#| export\n",
    "def withDictCopy(_dict: Dict, modify: Callable) -> Dict:\n",
    "    _copy = copy.copy(_dict)\n",
    "    modify(_copy)\n",
    "    return _copy"
   ]
  },
  {
   "cell_type": "markdown",
   "metadata": {},
   "source": [
    "For example:"
   ]
  },
  {
   "cell_type": "code",
   "execution_count": 29,
   "metadata": {},
   "outputs": [],
   "source": [
    "person = {\n",
    "    'firstName': 'Bert',\n",
    "    'lastName': 'the Goat',\n",
    "}"
   ]
  },
  {
   "cell_type": "code",
   "execution_count": 1,
   "metadata": {},
   "outputs": [],
   "source": [
    "expected = {\n",
    "    'firstName': 'BERT',\n",
    "    'lastName': 'THE GOAT',\n",
    "}\n",
    "\n",
    "# Helper function to uppercase every value in the dictionary\n",
    "def upper(_dict):\n",
    "    for key, value in _dict.items():\n",
    "        _dict[key] = value.upper()\n",
    "    return _dict\n",
    "\n",
    "# Uppercase everything with the Dict Copy\n",
    "def toUpper(person):\n",
    "    return withDictCopy(\n",
    "        person, \n",
    "        upper)"
   ]
  },
  {
   "cell_type": "code",
   "execution_count": 38,
   "metadata": {},
   "outputs": [],
   "source": [
    "test_eq(toUpper(person), expected)"
   ]
  },
  {
   "cell_type": "markdown",
   "metadata": {},
   "source": [
    "We start by creating a function which implements a copy-on-write principle to set key, value pairs in a dictionary."
   ]
  },
  {
   "cell_type": "code",
   "execution_count": null,
   "metadata": {},
   "outputs": [],
   "source": [
    "#| export\n",
    "def dictSet(\n",
    "    _dict: Dict,\n",
    "    key: Any,\n",
    "    value: Any\n",
    ") -> Dict:\n",
    "    new_dict = copy.copy(_dict)  \n",
    "    new_dict[key] = value\n",
    "    return new_dict"
   ]
  },
  {
   "cell_type": "markdown",
   "metadata": {},
   "source": [
    "It should set a new key, value pair when the key does not exist."
   ]
  },
  {
   "cell_type": "code",
   "execution_count": null,
   "metadata": {},
   "outputs": [],
   "source": [
    "expected_dict = {\n",
    "    'foo': 'bar'\n",
    "}\n",
    "\n",
    "test_eq(\n",
    "    dictSet({}, 'foo', 'bar'),\n",
    "    expected_dict,\n",
    ")"
   ]
  },
  {
   "cell_type": "markdown",
   "metadata": {},
   "source": [
    "It should update the key, value pair when the key does exist. Take into account that the dictionary is still immutable since it makes a copy!!"
   ]
  },
  {
   "cell_type": "code",
   "execution_count": null,
   "metadata": {},
   "outputs": [],
   "source": [
    "expected_dict = {\n",
    "    'foo': 'baz'\n",
    "}\n",
    "\n",
    "test_eq(\n",
    "    dictSet({'foo': 'bar'}, 'foo', 'baz'),\n",
    "    expected_dict\n",
    ")"
   ]
  },
  {
   "cell_type": "markdown",
   "metadata": {},
   "source": [
    "Then it will also be great to remove a key from the dictionary"
   ]
  },
  {
   "cell_type": "code",
   "execution_count": null,
   "metadata": {},
   "outputs": [],
   "source": [
    "#| export\n",
    "def dictRemove(_dict: Dict,\n",
    "key: Any) -> Dict:\n",
    "    copy_dict = copy.copy(_dict)\n",
    "    del copy_dict[key]\n",
    "    return copy_dict"
   ]
  },
  {
   "cell_type": "markdown",
   "metadata": {},
   "source": [
    "It should delete the key, value pair with the given key from the dictionary."
   ]
  },
  {
   "cell_type": "code",
   "execution_count": null,
   "metadata": {},
   "outputs": [],
   "source": [
    "expected_dict = {}\n",
    "\n",
    "test_eq(\n",
    "    dictRemove({'foo': 'bar'}, 'foo'),\n",
    "    expected_dict\n",
    ")"
   ]
  },
  {
   "cell_type": "code",
   "execution_count": null,
   "metadata": {},
   "outputs": [],
   "source": [
    "expected_dict = {'ham': 'spam'}\n",
    "\n",
    "test_eq(\n",
    "    dictRemove({'foo': 'bar', 'ham': 'spam'}, 'foo'),\n",
    "    expected_dict\n",
    ")"
   ]
  },
  {
   "cell_type": "code",
   "execution_count": null,
   "metadata": {},
   "outputs": [],
   "source": [
    "#| hide\n",
    "import nbdev; nbdev.nbdev_export()"
   ]
  }
 ],
 "metadata": {
  "kernelspec": {
   "display_name": "Python 3.9.13 ('venv': venv)",
   "language": "python",
   "name": "python3"
  },
  "language_info": {
   "codemirror_mode": {
    "name": "ipython",
    "version": 3
   },
   "file_extension": ".py",
   "mimetype": "text/x-python",
   "name": "python",
   "nbconvert_exporter": "python",
   "pygments_lexer": "ipython3",
   "version": "3.9.13"
  },
  "vscode": {
   "interpreter": {
    "hash": "be069009cc375bfbf1e6c78ee26ec1c90d167626b08e9b48d3d3e3da8249fd5a"
   }
  }
 },
 "nbformat": 4,
 "nbformat_minor": 4
}
