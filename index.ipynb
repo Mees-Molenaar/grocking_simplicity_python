{
 "cells": [
  {
   "cell_type": "code",
   "execution_count": null,
   "metadata": {},
   "outputs": [],
   "source": [
    "#| hide\n",
    "from grocking_simplicity_python.core import *"
   ]
  },
  {
   "cell_type": "markdown",
   "metadata": {},
   "source": [
    "# grocking_simplicity_python\n",
    "\n",
    "> A functional programming python package based on Grocking Simplicity"
   ]
  },
  {
   "cell_type": "markdown",
   "metadata": {},
   "source": [
    "Initially, this python library is based on [Grokking Simplicity](https://www.manning.com/books/grokking-simplicity) by [Eric Normand](https://ericnormand.me). In Grokking Simplicity, Eric makes Javascript functions to implement functional programming principles. In this library I want to implement these principles in python. \n",
    "\n",
    "Probably, this package will be a living thing. I will start with some basic immutability functionalities for dictionaries and lists. This immutability is important to separate code into Data, Calculations and Actions, which (I think) is a powerful pattern to use in python programs. \n",
    "\n",
    "Furthermore, this package is made using [nbdev](https://nbdev.fast.ai). This is my first experience with developing in this manner.\n",
    "\n",
    "Let us see where this journey will take us 😊"
   ]
  },
  {
   "cell_type": "markdown",
   "metadata": {},
   "source": [
    "If there is any feedback on the structure of the project or the code, I am happy to learn from your feedback! Please let me know 😇"
   ]
  },
  {
   "cell_type": "markdown",
   "metadata": {},
   "source": [
    "## How to use"
   ]
  },
  {
   "cell_type": "markdown",
   "metadata": {},
   "source": [
    "Fill me in please! Don't forget code examples:"
   ]
  },
  {
   "cell_type": "code",
   "execution_count": null,
   "metadata": {},
   "outputs": [
    {
     "data": {
      "text/plain": [
       "2"
      ]
     },
     "execution_count": null,
     "metadata": {},
     "output_type": "execute_result"
    }
   ],
   "source": [
    "1+1"
   ]
  },
  {
   "cell_type": "code",
   "execution_count": null,
   "metadata": {},
   "outputs": [],
   "source": []
  }
 ],
 "metadata": {
  "kernelspec": {
   "display_name": "Python 3.9.13 ('venv': venv)",
   "language": "python",
   "name": "python3"
  }
 },
 "nbformat": 4,
 "nbformat_minor": 4
}
